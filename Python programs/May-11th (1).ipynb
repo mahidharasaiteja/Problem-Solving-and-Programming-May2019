{
 "cells": [
  {
   "cell_type": "markdown",
   "metadata": {},
   "source": [
    "# Problem solving and Programming.\n",
    "\n",
    "\n",
    "\n",
    "## Day no- 12 \n",
    "\n",
    "\n",
    "## Dates- 11 May-19 \n",
    "\n",
    "\n",
    "### Day Outcomes\n",
    "\n",
    "1. Programming in python Using recursion.\n",
    "2. Practicing a variety of real life problem set using arrays and recursion.\n"
   ]
  },
  {
   "cell_type": "code",
   "execution_count": null,
   "metadata": {},
   "outputs": [],
   "source": []
  },
  {
   "cell_type": "code",
   "execution_count": null,
   "metadata": {},
   "outputs": [],
   "source": []
  },
  {
   "cell_type": "markdown",
   "metadata": {},
   "source": [
    "### Problem 1:\n",
    "\n",
    "##### Problem statement\n",
    "Define a function to convert a binary number to the corresponding decimal number\n",
    "#### Constraints\n",
    "\n",
    "#### Test Cases\n",
    "* Test Case 1 :\n",
    "    binaryToDecimal(1100) -> 12\n",
    "    \n",
    "* Test Case 2 :\n",
    "    binaryToDecimal(1010) -> 10\n",
    "\n",
    "* Test Case 3 :\n",
    "    binaryToDecimal(1010) -> 10\n",
    "   \n",
    "* Test Case 4 :\n",
    "    binaryToDecimal(111000) -> 56\n",
    "\n"
   ]
  },
  {
   "cell_type": "code",
   "execution_count": 24,
   "metadata": {},
   "outputs": [
    {
     "name": "stdout",
     "output_type": "stream",
     "text": [
      "15\n",
      "3943301\n"
     ]
    }
   ],
   "source": [
    "def bod(n):\n",
    "    sum = 0\n",
    "    for i in range(0,len(str(n))):\n",
    "        \n",
    "        r = n%10\n",
    "        \n",
    "        sum=sum+(r*(2**i))\n",
    "        n = n//10\n",
    "         \n",
    "       \n",
    "    return sum\n",
    "print(bod(1111))\n",
    "print(bod(1111000010101110000101))"
   ]
  },
  {
   "cell_type": "code",
   "execution_count": null,
   "metadata": {},
   "outputs": [],
   "source": []
  },
  {
   "cell_type": "markdown",
   "metadata": {},
   "source": [
    "### Problem 2:\n",
    "##### Problem statement\n",
    " Define a function to convert a decimal number to the corresponding binary number.\n",
    "\n",
    "#### Constraints\n",
    "\n",
    "#### Test Cases\n",
    "* Test Case 1 :\n",
    "    decimalToBinary(15) -> 1111\n",
    "\n",
    "* Test Case 2 :\n",
    "    decimalToBinary(1) -> 1\n",
    "\n"
   ]
  },
  {
   "cell_type": "code",
   "execution_count": 21,
   "metadata": {},
   "outputs": [
    {
     "data": {
      "text/plain": [
       "1100100"
      ]
     },
     "execution_count": 21,
     "metadata": {},
     "output_type": "execute_result"
    }
   ],
   "source": [
    "def dob(n):\n",
    "    c=''\n",
    "   \n",
    "    \n",
    "    while n > 0:\n",
    "        r=n%2\n",
    "        n=n//2\n",
    "        c=str(r)+c\n",
    "        \n",
    "    return int(c)\n",
    "\n",
    "\n",
    "\n",
    "        \n",
    "dob(100)      "
   ]
  },
  {
   "cell_type": "code",
   "execution_count": null,
   "metadata": {},
   "outputs": [],
   "source": []
  },
  {
   "cell_type": "markdown",
   "metadata": {},
   "source": [
    "### Problem 3:\n",
    "##### Problem statement\n",
    " Define a function to merge the characters of two strings alternatively. The remaining characters\n",
    "\n",
    "     of the longer string are printed in the same order at the end.\n",
    "\n",
    "#### Constraints\n",
    "\n",
    "#### Test Cases\n",
    "* Test Case 1 :\n",
    "    mergeString('abcd', 'abcd') -> 'aabbccdd'\n",
    "\n",
    "\n",
    "* Test Case 2 :\n",
    "    mergeString('abc', '123456') -> 'a1b2c3456'\n",
    "\n",
    "* Test Case 3 :\n",
    "    mergeString('0', '123456') -> '0123456'\n"
   ]
  },
  {
   "cell_type": "code",
   "execution_count": 33,
   "metadata": {},
   "outputs": [
    {
     "data": {
      "text/plain": [
       "'aabbccddefg'"
      ]
     },
     "execution_count": 33,
     "metadata": {},
     "output_type": "execute_result"
    }
   ],
   "source": [
    "def mergestring(str1,str2):\n",
    "    #str1=[]\n",
    "    #str2=[]\n",
    "    c = ''\n",
    "    if str1>str2:\n",
    "        a = str1\n",
    "        b = str2\n",
    "    else:\n",
    "        a = str2\n",
    "        b = str1\n",
    "        \n",
    "    x=len(a)\n",
    "    y=len(b)\n",
    "    for i in range (0,y):\n",
    "            c=c+a[i]+b[i]\n",
    "    for i in range(y,x):\n",
    "        c=c+a[i]\n",
    "    return c\n",
    "\n",
    "mergestring('abcdefg','abcd')\n",
    "        \n",
    "    \n",
    "        \n",
    "    \n",
    "    "
   ]
  },
  {
   "cell_type": "code",
   "execution_count": null,
   "metadata": {},
   "outputs": [],
   "source": []
  },
  {
   "cell_type": "markdown",
   "metadata": {},
   "source": [
    "### Problem 4:\n",
    "##### Problem statement\n",
    " Define a function to check if a given year is a leap year. Returns a boolean value\n",
    "\n",
    "#### Constraints\n",
    "\n",
    "#### Test Cases\n",
    "* Test Case 1 :\n",
    "    2000 -> True\n",
    "\n",
    "* Test Case 2 :\n",
    "    1900 -> False\n",
    "\n",
    "* Test Case 3 :\n",
    "    2012 -> True\n",
    "    \n",
    "* Test Case 4 :\n",
    "    2020 -> True\n",
    "    \n",
    "* Test Case 5 :\n",
    "    200 -> False\n",
    "\n"
   ]
  },
  {
   "cell_type": "markdown",
   "metadata": {},
   "source": [
    "def leapyear(n):\n",
    "    for i in range (1 , 3):\n",
    "        if n%100 == 0:\n",
    "            if n%400 == 0:\n",
    "                return 'leap year'\n",
    "        else:\n",
    "            if n%4 == 0:\n",
    "                return 'leap year'\n",
    "    \n",
    "    return 'not a leap year'\n",
    "leapyear(200)    "
   ]
  },
  {
   "cell_type": "markdown",
   "metadata": {},
   "source": []
  },
  {
   "cell_type": "markdown",
   "metadata": {},
   "source": [
    "\n",
    "### Problem 5:\n",
    "##### Problem statement\n",
    " Define a function to identity the number of times a substring is repeating in a given string.\n",
    "\n",
    "#### Constraints\n",
    "\n",
    "#### Test Cases\n",
    "* Test Case 1 :\n",
    "    substringCount('str', 'substr') -> 1\n",
    "* Test Case 2 :\n",
    "    substringCount('1234567891122334455', '3') -> 3\n",
    "\n",
    "* Test Case :\n",
    "    substringCount('abccddccc', 'cc') -> 3\n",
    "* Test Case :\n",
    "    substringCount('aaaaaaa', 'aaa' ) -> 5\n"
   ]
  },
  {
   "cell_type": "code",
   "execution_count": 132,
   "metadata": {},
   "outputs": [
    {
     "data": {
      "text/plain": [
       "1"
      ]
     },
     "execution_count": 132,
     "metadata": {},
     "output_type": "execute_result"
    }
   ],
   "source": [
    "def substringcount(string1,string2):\n",
    "\n",
    "    count = 0\n",
    "    if len(string1) > len(string2):\n",
    "            x = len(string1)\n",
    "            y = len(string2)\n",
    "            for i in range (0,x):\n",
    "                if(string1[i:y] == string2):\n",
    "                    count = count + 1\n",
    "                y = y+1\n",
    "            \n",
    "            return count\n",
    "    else:\n",
    "        return substringcount(string2,string1)\n",
    "    \n",
    "\n",
    "substringcount('kartheek','ee')     \n",
    "    "
   ]
  },
  {
   "cell_type": "code",
   "execution_count": null,
   "metadata": {},
   "outputs": [],
   "source": []
  },
  {
   "cell_type": "markdown",
   "metadata": {},
   "source": [
    "### Problem 6:\n",
    "##### Problem statement\n",
    " Design a Python script to determine the difference in date for given two dates in YYYY:MM:DD format(0 <= YYYY <= 9999, 1 <= MM <= 12, 1 <= DD <= 31) following the leap year rules. Return the total number of days existing between the two dates.\n",
    "\n",
    "#### Constraints\n",
    "\n",
    "#### Test Cases\n",
    "* Test Case 1 :\n",
    "    dateDifference('2019:05:10', '2019:05:01') -> 9\n",
    "\n",
    "* Test Case 2 :\n",
    "    dateDifference('0003:03:03', '0003:06:06') -> 95\n"
   ]
  },
  {
   "cell_type": "code",
   "execution_count": 135,
   "metadata": {},
   "outputs": [
    {
     "name": "stdout",
     "output_type": "stream",
     "text": [
      "9\n",
      "95\n"
     ]
    }
   ],
   "source": [
    "def daysdifference(a,b):\n",
    "    y = abs(int(a[0:4])-int(b[0:4]))\n",
    "    m = abs(int(a[5:7])-int(b[5:7]))\n",
    "    d = abs(int(a[8:10])-int(b[8:10]))\n",
    "    count = 0\n",
    "    for i in range(int(a[0:4]),int(b[0:4])):\n",
    "        if i%4 == 0 and i%100 != 0:\n",
    "            count = count +1\n",
    "        elif i % 400 == 0:\n",
    "            count = count + 1\n",
    "    for i in range(int(a[5:7]),int(b[5:7])):\n",
    "        if i in [1,3,5,7,8,10,12]:\n",
    "            count = count +1\n",
    "        if i == 2:\n",
    "            count = count -2\n",
    "    return (y*365) + (m*30) + d + count\n",
    "        \n",
    "print(daysdifference('2019:05:10','2019:05:01'))\n",
    "print(daysdifference('0003:03:03','0003:06:06'))\n",
    "\n",
    "        "
   ]
  },
  {
   "cell_type": "code",
   "execution_count": null,
   "metadata": {},
   "outputs": [],
   "source": []
  },
  {
   "cell_type": "markdown",
   "metadata": {},
   "source": [
    "### Problem 7:\n",
    "##### Problem statement\n",
    "Define a function to find the average of all the outer elements of an N x M matrix.\n",
    "\n",
    "#### Constraints\n",
    "\n",
    "#### Test Cases\n",
    "* Test Case 1 :\n",
    "    averageOuterMatrix([[1, 2, 3], [4, 5, 6], [7, 8, 9], [10, 11, 12]] -> 4.5\n",
    "\n"
   ]
  },
  {
   "cell_type": "code",
   "execution_count": 136,
   "metadata": {},
   "outputs": [
    {
     "data": {
      "text/plain": [
       "6.5"
      ]
     },
     "execution_count": 136,
     "metadata": {},
     "output_type": "execute_result"
    }
   ],
   "source": [
    "def averageoutermatrix(a):\n",
    "    c=s=0\n",
    "    \n",
    "    for i in range(0,len(a)):\n",
    "        if i == 0 or i == len(a) - 1:\n",
    "            s = s + sum(a[i])\n",
    "            c = c + len(a[i])\n",
    "        else:\n",
    "            s=s+a[i][0] + a[i][len(a[i])-1]\n",
    "            c = c + 2\n",
    "    return s/c\n",
    "\n",
    "\n",
    "averageoutermatrix([[1,2,3],[4,5,6],[7,8,9],[10,11,12]])\n",
    "        "
   ]
  },
  {
   "cell_type": "code",
   "execution_count": null,
   "metadata": {},
   "outputs": [],
   "source": []
  },
  {
   "cell_type": "markdown",
   "metadata": {},
   "source": [
    "### Problem 8:\n",
    "##### Problem statement\n",
    " Define a function to print the sequence of spiral pattern elements for a given N x N matrix\n",
    "\n",
    "#### Constraints\n",
    "\n",
    "#### Test Cases\n",
    "* Test Case 1 :spiralPattern([[1,2,3], [4,5,6], [7,8,9]]) -> 1 2 3 6 9 8 7 4 5\n",
    "\n",
    "\n"
   ]
  },
  {
   "cell_type": "code",
   "execution_count": 140,
   "metadata": {},
   "outputs": [
    {
     "name": "stdout",
     "output_type": "stream",
     "text": [
      "1 2 3 4 5 6 7 8 9 \n"
     ]
    }
   ],
   "source": [
    "def spiralpattern(a):\n",
    "    if len(a)%2 == 0:\n",
    "        n = len(a)\n",
    "    else:\n",
    "        n = len(a) + 1\n",
    "    j = 0\n",
    "    k = 1\n",
    "    while n != 0:\n",
    "        for i in range(j,len(a[j])-k):\n",
    "            print(a[j][i],end = ' ')\n",
    "        for i in range(j,len(a)-k):\n",
    "            print(a[i][len(a[j])-k],end = ' ')\n",
    "        for i in range(len(a[j])-k,j,-1):\n",
    "            print(a[len(a)-k][i],end = ' ')\n",
    "        for i in range(len(a)-k,j,-1):\n",
    "            print(a[i][j],end = ' ')\n",
    "        n = n - 2\n",
    "        j = j + 1\n",
    "        k = k + 1\n",
    "    if len(a)%2 == 1:\n",
    "        print(a[len(a)//2][len(a)//2],end = ' ')\n",
    "        \n",
    "spiralpattern([[1,2,3],[8,9,4],[7,6,5]])\n",
    "print(end = '\\n')"
   ]
  },
  {
   "cell_type": "code",
   "execution_count": null,
   "metadata": {},
   "outputs": [],
   "source": []
  }
 ],
 "metadata": {
  "kernelspec": {
   "display_name": "Python 3",
   "language": "python",
   "name": "python3"
  },
  "language_info": {
   "codemirror_mode": {
    "name": "ipython",
    "version": 3
   },
   "file_extension": ".py",
   "mimetype": "text/x-python",
   "name": "python",
   "nbconvert_exporter": "python",
   "pygments_lexer": "ipython3",
   "version": "3.7.3"
  }
 },
 "nbformat": 4,
 "nbformat_minor": 2
}
