{
 "cells": [
  {
   "cell_type": "markdown",
   "metadata": {},
   "source": [
    "## PROBLEM:\n",
    "\n",
    "### PROBLEM STATEMENT\n",
    "\n",
    "You are given n words. Some words may repeat. For each word, output its number of occurrences. The output order should correspond with the input order of appearance of the word. \n",
    "First line of input contains the total number of words n. Next n lines contain words that need to processed.\n",
    "\n",
    "First line of the output should contain the total number distinct words. Second line of output must contain the frequency of words the same order of their appearance as in the input.\n",
    "\n",
    "## TESTCASES\n",
    "\n",
    "Sample Input :  6\n",
    "\n",
    "abcd\n",
    "\n",
    "ijkl\n",
    "\n",
    "abcd\n",
    "\n",
    "pqrs\n",
    "\n",
    "abcd\n",
    "\n",
    "ijkl\n",
    "\n",
    "Sample Output :   3\n",
    "\n",
    "3  2   1\n",
    "\n",
    "\n"
   ]
  },
  {
   "cell_type": "code",
   "execution_count": 5,
   "metadata": {},
   "outputs": [
    {
     "name": "stdout",
     "output_type": "stream",
     "text": [
      "enter no of words6\n",
      "enter wordhi\n",
      "enter wordddd\n",
      "enter wordsss\n",
      "enter wordhi\n",
      "enter wordjijji\n",
      "enter wordjkl\n",
      "hi 2\n",
      "ddd 1\n",
      "sss 1\n",
      "jijji 1\n",
      "jkl 1\n"
     ]
    }
   ],
   "source": [
    "def mos(n,a):\n",
    "    b = []\n",
    "    for x in a:\n",
    "        if x not in b:\n",
    "            b.append(x)\n",
    "    c=0\n",
    "    for i in range(0, len(b)):\n",
    "        for j in range(0, len(a)):\n",
    "            if(b[i]==a[j]):\n",
    "                c=c+1\n",
    "        print(b[i],c)\n",
    "        c=0\n",
    "\n",
    "n=int(input('enter no of words'))\n",
    "a=[]\n",
    "for i in range(1,n+1):\n",
    "    text=input('enter word')\n",
    "    a.append(text)\n",
    "\n",
    "mos(n,a)"
   ]
  },
  {
   "cell_type": "markdown",
   "metadata": {},
   "source": [
    "## PROBLEM 2:\n",
    " \n",
    " \n",
    " ## PROBLEM STATEMENT:\n",
    " \n",
    " Define a function to validate email addresses based on the following rules.\n",
    "\n",
    "Email should be in the format username@domain.extension\n",
    "username must start with an alphabet and can contain lowercase alphabet, digits, hyphen(-) and underscores( _ ).\n",
    "username must not contain special characters, uppercase letters, whitespaces.\n",
    "Length of username must be in the range (6, 16)\n",
    "Domain can only contain lowercase alphabet and digits with length in range (3, 10) . No special characters are allowed\n",
    "Extension can only contain lower case alphabet and its length must be in the range (2, 4)\n",
    "First line of input contains total number of email addresses n.  Next n lines contain  n email addresses.\n",
    "\n",
    "Output must contain contain  n  lines with either 'Valid' or 'Invalid'\n",
    "\n",
    "## TESTCASES:\n",
    "\n",
    "Sample Input :  6\n",
    "\n",
    "abc456@gmail.com\n",
    "\n",
    "456abc@yahoo.com\n",
    "\n",
    "abc_456@gitam.ed1\n",
    "\n",
    "abc-456@abc-d.in\n",
    "\n",
    "python@python.edu\n",
    "\n",
    "abc 456@edu.edu\n",
    "\n",
    "Sample Output :   Valid\n",
    "\n",
    "Invalid\n",
    "\n",
    "Invalid\n",
    "\n",
    "Invalid\n",
    "\n",
    "Valid\n",
    "\n",
    "Invalid\n",
    "\n"
   ]
  },
  {
   "cell_type": "code",
   "execution_count": 12,
   "metadata": {},
   "outputs": [
    {
     "name": "stdout",
     "output_type": "stream",
     "text": [
      "Valid\n",
      "Invalid\n",
      "Invalid\n",
      "Invalid\n",
      "Valid\n",
      "Invalid\n"
     ]
    }
   ],
   "source": [
    "def check(n):\n",
    "    pos1=n.index(\"@\")      #index of '@'\n",
    "    pos2=n.index(\".\")      # index of \".\"\n",
    "    user_name=n[:pos1]        # gets the user name\n",
    "    domain=n[(pos1+1):pos2]      # gets the domain\n",
    "    ext=n[(pos2+1):]             # gets the exension\n",
    "    result=1\n",
    "    s=[chr(x) for x in range(32,45)]\n",
    "    s2=[chr(y) for y in range(58,64)]\n",
    "    s3=[chr(z) for z in range(91,95)]\n",
    "    s4=[chr(x) for x in range(46,48)]\n",
    "    s5=[chr(x) for x in range(123,127)]\n",
    "    if(user_name[0].islower() and len(user_name) in range(6,16) and user_name.islower()):\n",
    "        result =result\n",
    "    else:\n",
    "        return 'Invalid'\n",
    "    for i in range(len(user_name)):\n",
    "        if(user_name[i] in s or user_name[i] in s2 or user_name[i] in s3 or user_name[i] in s4 or user_name[i] in s5):\n",
    "            return 'Invalid'\n",
    "    if(len(domain) in range(3,10) and domain.islower()):\n",
    "        result=result\n",
    "    else:\n",
    "        return 'Invalid'\n",
    "    for i in range(len(domain)):\n",
    "        if(domain[i] in [\"-\",\"_\"] or domain[i] in s or domain[i] in s2 or domain[i] in s3 or domain[i] in s4 or domain[i] in s5 ):\n",
    "            return 'Invalid'\n",
    "    if(ext.islower() and len(ext) in range(2,4) ):\n",
    "        result=result\n",
    "    else:\n",
    "        return 'Invalid'\n",
    "    for i in range(len(ext)):\n",
    "        if(ext[i] in ['0','1','2','3','4','5','6','7','8','9']):\n",
    "            return 'Invalid'\n",
    "    if(result==1):\n",
    "        return 'Valid'\n",
    "\n",
    "print(check(\"abc456@gmail.com\"))\n",
    "print(check(\"456abc@yahoo.com\"))\n",
    "print(check(\"abc_456@gitam.ed1\"))\n",
    "print(check(\"abc-456@abc-d.in\"))\n",
    "print(check(\"python@python.edu\"))\n",
    "print(check(\"abc 456@gitam.ed1\"))"
   ]
  },
  {
   "cell_type": "markdown",
   "metadata": {},
   "source": [
    "## PROBLEM 3:\n",
    "\n",
    "\n",
    "## PROBLEM STATEMENT:\n",
    "Define a function that take an array of integers A, and an integer K and returns the longest possible sub-set of A i.e A' such that the sum of no two elements in A' is divisible by K.\n",
    "\n",
    "First line in input contains the length of A and the integer K. Second line of input contains len(A) space-separated integers.\n",
    "\n",
    "Output must contain the length of A' list\n",
    "\n",
    "## TESTCASES:\n",
    "\n",
    "Sample Input :    4  3\n",
    "\n",
    "1 7 2 4\n",
    "\n",
    "Sample Output : 3"
   ]
  },
  {
   "cell_type": "code",
   "execution_count": 11,
   "metadata": {},
   "outputs": [
    {
     "name": "stdout",
     "output_type": "stream",
     "text": [
      "4 3\n",
      "[1, 7, 2, 4]\n",
      "3\n"
     ]
    }
   ],
   "source": [
    "def arr(a,k):\n",
    "    sub=[ ]\n",
    "    sub.append(a[0])\n",
    "    print(len(a),k)\n",
    "    print(a)\n",
    "    for i in range(1, len(a)):\n",
    "        if(checksub(a[i],sub,k)):\n",
    "            sub.append(a[i])\n",
    "    print(len(sub))\n",
    "def checksub(key,sub,k):\n",
    "    for i in range(len(sub)):\n",
    "        if(((key+sub[i])%k)==0):\n",
    "            return False\n",
    "    return True\n",
    "        \n",
    "a=[1,7,2,4]\n",
    "arr(a,3)\n",
    "        "
   ]
  },
  {
   "cell_type": "code",
   "execution_count": null,
   "metadata": {},
   "outputs": [],
   "source": []
  }
 ],
 "metadata": {
  "kernelspec": {
   "display_name": "Python 3",
   "language": "python",
   "name": "python3"
  },
  "language_info": {
   "codemirror_mode": {
    "name": "ipython",
    "version": 3
   },
   "file_extension": ".py",
   "mimetype": "text/x-python",
   "name": "python",
   "nbconvert_exporter": "python",
   "pygments_lexer": "ipython3",
   "version": "3.7.3"
  }
 },
 "nbformat": 4,
 "nbformat_minor": 2
}
