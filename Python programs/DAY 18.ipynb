{
 "cells": [
  {
   "cell_type": "code",
   "execution_count": 13,
   "metadata": {},
   "outputs": [
    {
     "data": {
      "text/plain": [
       "'saiteja is a gud guy\\nrockstar\\nmusician\\nruler'"
      ]
     },
     "execution_count": 13,
     "metadata": {},
     "output_type": "execute_result"
    }
   ],
   "source": [
    "def readfiledata(filename):\n",
    "    with open(filename, 'r') as f:\n",
    "        filedata =f.read()\n",
    "    f.close()\n",
    "    return filedata\n",
    "\n",
    "readfiledata('DATA FILES/text.txt')"
   ]
  },
  {
   "cell_type": "code",
   "execution_count": 28,
   "metadata": {},
   "outputs": [
    {
     "name": "stdout",
     "output_type": "stream",
     "text": [
      "saiteja is a gud guy\n",
      "rockstar\n",
      "musician\n",
      "ruler"
     ]
    }
   ],
   "source": [
    "def readfiledata(filename):\n",
    "    with open(filename, 'r') as f:\n",
    "        \n",
    "        for line in f:\n",
    "            print(line,end='')\n",
    "        \n",
    "    return\n",
    "    \n",
    "readfiledata('DATA FILES/text.txt')"
   ]
  },
  {
   "cell_type": "code",
   "execution_count": 32,
   "metadata": {},
   "outputs": [
    {
     "name": "stdout",
     "output_type": "stream",
     "text": [
      "saiteja is a gud guy\n",
      "rockstar\n",
      "musician\n",
      "ruler\n",
      "data is written in to filewrite\n"
     ]
    }
   ],
   "source": [
    "def readfiledata(filename):\n",
    "    with open(filename, 'r') as f:\n",
    "        print(f.read())\n",
    "    return\n",
    "def writeintofile(filename,data):\n",
    "    with open(filename,'w') as f:\n",
    "        f.write(data)\n",
    "    return\n",
    "    \n",
    "readfiledata('DATA FILES/text.txt')  \n",
    "writeintofile('DATA FILES/filewrite.txt','data is written in to filewrite')\n",
    "readfiledata('DATA FILES/filewrite.txt')"
   ]
  },
  {
   "cell_type": "code",
   "execution_count": 33,
   "metadata": {},
   "outputs": [
    {
     "name": "stdout",
     "output_type": "stream",
     "text": [
      "data is written in to filewriteadding some other content using append mode\n",
      "\n"
     ]
    }
   ],
   "source": [
    "def readfiledata(filename):\n",
    "    with open(filename, 'r') as f:\n",
    "        print(f.read())\n",
    "    return\n",
    "def writeintoffile(filename,data,mode):\n",
    "    with open(filename,mode) as f:\n",
    "        f.write(data)\n",
    "    return\n",
    "    \n",
    "#readfiledata('DATA FILES/text.txt')  \n",
    "writeintoffile('DATA FILES/filewrite.txt','adding some other content using append mode\\n','a')\n",
    "readfiledata('DATA FILES/filewrite.txt')"
   ]
  },
  {
   "cell_type": "code",
   "execution_count": 44,
   "metadata": {},
   "outputs": [],
   "source": [
    "import random\n",
    "def genmarks(n,filename):\n",
    "    with open(filename,'w') as marksfile:\n",
    "        for i in range (0,n):\n",
    "            marks=random.randint(0,1300)\n",
    "            marksfile.write(str(marks)+'\\n')\n",
    "        return\n",
    "genmarks(1300,'marksdata.txt')"
   ]
  },
  {
   "cell_type": "markdown",
   "metadata": {},
   "source": [
    "PROBLEM STATEMENT 2:\n",
    "\n",
    "define generate report on a marks data file for 1300 students such that each mark is entered in a new line.marks range from 0 -100(inclusive) as random numbers \n",
    "\n",
    "* HIGHEST MARKS\n",
    "* lowest marks\n",
    "* avg marks\n",
    "* no of students with distinction(>80)\n",
    "* no of students with firstclass(>60)\n",
    "* no of students with secondclass(>50)\n",
    "* no of students with thirdclass(>40)\n",
    "* no of students with failed(>40)\n",
    " \n",
    " CONSTRAINTS\n",
    "  \n"
   ]
  },
  {
   "cell_type": "code",
   "execution_count": 45,
   "metadata": {},
   "outputs": [
    {
     "data": {
      "text/plain": [
       "(1300, 0, 653)"
      ]
     },
     "execution_count": 45,
     "metadata": {},
     "output_type": "execute_result"
    }
   ],
   "source": [
    "import random\n",
    "def genmarks(n,filename):\n",
    "    with open (filename,'r') as r:\n",
    "        li=[]\n",
    "        for i in r:\n",
    "            li.append(int(i))\n",
    "        return max(li),min(li),sum(li)//n\n",
    "    \n",
    "genmarks (1300,'marksdata.txt')    "
   ]
  },
  {
   "cell_type": "code",
   "execution_count": 52,
   "metadata": {},
   "outputs": [],
   "source": [
    "def report(filename):\n",
    "    li = []\n",
    "    distinctioncount = 0\n",
    "    firstclasscount = 0\n",
    "    secondclasscount = 0\n",
    "    thirdclasscount = 0\n",
    "    failedcount = 0\n",
    "    with open(filename,'r') as f:\n",
    "        for i in range (0,1300):\n",
    "            \n",
    "            filedata = int(f.readline())\n",
    "            li.append(filedata)\n",
    "            if filedata>=80:\n",
    "                distinctioncount = distinctioncount+1\n",
    "            if 70<=filedata<80:\n",
    "                firstclasscount += 1\n",
    "            if 60 <= filedata < 70:\n",
    "                secondclasscount += 1\n",
    "            if 50 <= filedata < 60:\n",
    "                thirdclasscount += 1\n",
    "            if filedata < 50:\n",
    "                failedcount += 1\n",
    "    #print(len(li))\n",
    "    with open('report.txt','w') as f:\n",
    "        f.write('highest mark :'+str(max(li))+'\\n')\n",
    "        f.write('lowest mark :'+str(min(li))+'\\n')\n",
    "        f.write('average mark :'+str(sum(li)//len(li))+'\\n')\n",
    "        f.write('no of students with distinction :'+str(distinctioncount)+'\\n')\n",
    "        f.write('no of students with firstclass :'+str(firstclasscount)+'\\n')\n",
    "        f.write('no of students with secondclass :'+str(secondclasscount)+'\\n')\n",
    "        f.write('no of students with thirdclass :'+str(thirdclasscount)+'\\n')\n",
    "        f.write('no of students failed :'+str(failedcount)+'\\n')\n",
    "        f.write('length of list:'+str(len(li))+'\\n')\n",
    "      \n",
    "      \n",
    "    return  \n",
    "   \n",
    "\n",
    "report('marksdata.txt')\n",
    "        "
   ]
  },
  {
   "cell_type": "code",
   "execution_count": 49,
   "metadata": {},
   "outputs": [
    {
     "ename": "SyntaxError",
     "evalue": "EOL while scanning string literal (<ipython-input-49-6f40ecb8feae>, line 8)",
     "output_type": "error",
     "traceback": [
      "\u001b[1;36m  File \u001b[1;32m\"<ipython-input-49-6f40ecb8feae>\"\u001b[1;36m, line \u001b[1;32m8\u001b[0m\n\u001b[1;33m    generatemarksreport('DATA FILES'.txt')\u001b[0m\n\u001b[1;37m                                          ^\u001b[0m\n\u001b[1;31mSyntaxError\u001b[0m\u001b[1;31m:\u001b[0m EOL while scanning string literal\n"
     ]
    }
   ],
   "source": [
    "import re, timeit\n",
    "def generatemarksreport(marksfile):\n",
    "    start = timeit.default_timer()\n",
    "    markdata = reaffiledata(marksfile)\n",
    "    marksdata = re.split(r'\\n',marksdata)\n",
    "    return timeit.default_timer()\n",
    "\n",
    "generatemarksreport('DATA FILES'.txt')"
   ]
  },
  {
   "cell_type": "code",
   "execution_count": 57,
   "metadata": {},
   "outputs": [
    {
     "data": {
      "text/plain": [
       "'1'"
      ]
     },
     "execution_count": 57,
     "metadata": {},
     "output_type": "execute_result"
    }
   ],
   "source": [
    "li =[1,2,3,4,5]\n",
    "s = str(li)\n",
    "s=list(map(str,li))\n",
    "s[0]"
   ]
  },
  {
   "cell_type": "code",
   "execution_count": 61,
   "metadata": {},
   "outputs": [
    {
     "data": {
      "text/plain": [
       "[1.0, 2.0, 3.0, 4.0, 5.0]"
      ]
     },
     "execution_count": 61,
     "metadata": {},
     "output_type": "execute_result"
    }
   ],
   "source": [
    "li =[1,2,3,4,5]\n",
    "s = str(li)\n",
    "s=list(map(str,li))\n",
    "\n",
    "s=[float(i) for i in s]\n",
    "s"
   ]
  },
  {
   "cell_type": "code",
   "execution_count": 63,
   "metadata": {},
   "outputs": [
    {
     "name": "stdout",
     "output_type": "stream",
     "text": [
      "0.00027471800058265217\n"
     ]
    },
    {
     "data": {
      "text/plain": [
       "[1.0, 2.0, 3.0, 4.0, 5.0]"
      ]
     },
     "execution_count": 63,
     "metadata": {},
     "output_type": "execute_result"
    }
   ],
   "source": [
    "li =[1,2,3,4,5]\n",
    "\n",
    "def square(ns):\n",
    "    return n*n\n",
    "st = timeit.default_timer()\n",
    "\n",
    "s=list(map(str,li))\n",
    "\n",
    "s=[float(i) for i in s]\n",
    "print(timeit.default_timer()-st)\n",
    "s"
   ]
  },
  {
   "cell_type": "markdown",
   "metadata": {},
   "source": [
    "## LIBRARIES\n",
    "\n",
    "* NUMPY\n",
    "* "
   ]
  },
  {
   "cell_type": "code",
   "execution_count": 65,
   "metadata": {},
   "outputs": [
    {
     "name": "stdout",
     "output_type": "stream",
     "text": [
      "[[0 1 2]\n",
      " [3 4 5]]\n"
     ]
    },
    {
     "data": {
      "text/plain": [
       "numpy.ndarray"
      ]
     },
     "execution_count": 65,
     "metadata": {},
     "output_type": "execute_result"
    }
   ],
   "source": [
    "import numpy as np  #impoting libraries\n",
    "\n",
    "a = np.array([[0,1,2],[3,4,5]])\n",
    "\n",
    "print(a)\n",
    "type(a)"
   ]
  },
  {
   "cell_type": "code",
   "execution_count": null,
   "metadata": {},
   "outputs": [],
   "source": [
    "tensor = np.array([])"
   ]
  },
  {
   "cell_type": "markdown",
   "metadata": {},
   "source": [
    "## pandas"
   ]
  },
  {
   "cell_type": "code",
   "execution_count": null,
   "metadata": {},
   "outputs": [],
   "source": []
  }
 ],
 "metadata": {
  "kernelspec": {
   "display_name": "Python 3",
   "language": "python",
   "name": "python3"
  },
  "language_info": {
   "codemirror_mode": {
    "name": "ipython",
    "version": 3
   },
   "file_extension": ".py",
   "mimetype": "text/x-python",
   "name": "python",
   "nbconvert_exporter": "python",
   "pygments_lexer": "ipython3",
   "version": "3.7.3"
  }
 },
 "nbformat": 4,
 "nbformat_minor": 2
}
