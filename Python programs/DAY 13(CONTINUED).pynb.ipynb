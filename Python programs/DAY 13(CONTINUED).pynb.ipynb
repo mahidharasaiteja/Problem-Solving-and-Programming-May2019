{
 "cells": [
  {
   "cell_type": "markdown",
   "metadata": {},
   "source": [
    "## PROBLEM 7\n",
    "Design a Python script to determine the difference in date for given two dates in YYYY:MM:DD format(0 <= YYYY <= 9999, 1 <= MM <= 12, 1 <= DD <= 31) following the leap year rules. Return the total number of days existing between the two dates.\n",
    "\n",
    "## TEST CASES\n",
    "dateDifference('2019:05:10', '2019:05:01') -> 9\n",
    "dateDifference('0003:03:03', '0003:06:06') -> 95"
   ]
  },
  {
   "cell_type": "code",
   "execution_count": 1,
   "metadata": {},
   "outputs": [
    {
     "name": "stdout",
     "output_type": "stream",
     "text": [
      "9\n",
      "95\n"
     ]
    }
   ],
   "source": [
    "def date_diff(a,b):\n",
    "    y1=a[0:4]\n",
    "    y2=b[0:4]\n",
    "    m1=a[5:7]\n",
    "    m2=b[5:7]\n",
    "    d1=a[8:10]\n",
    "    d2=b[8:10]\n",
    "    day=0\n",
    "    day+=(int(y2) -(int(y1)))*360\n",
    "    day+=(abs(int(m2) - int(m1)))*30\n",
    "    day+=(abs(int(d1) - int(d2)))\n",
    "    if(m2!=m1):\n",
    "        for i in range(int(m1), int(m2)+1):\n",
    "            if (int(i) in [1,3,5,7,8,10,12]):\n",
    "                day+=1\n",
    "        for n in range (int(m1), int (m2)+1):\n",
    "            if(int(i) in [1,3,5,7,8,10,12]):\n",
    "                day+=1\n",
    "    return day\n",
    "    \n",
    "print(date_diff('2019:05:10', '2019:05:01'))\n",
    "print(date_diff('0003:03:03', '0003:06:06'))"
   ]
  },
  {
   "cell_type": "markdown",
   "metadata": {},
   "source": [
    "## PROBLEM 9:\n",
    "\n",
    " ### PROBLEM STATEMENT:\n",
    "  Define a function to print the sequence of spiral pattern elements for a given N x N matrix\n",
    "  \n",
    "## TESTCASES\n",
    "\n",
    "spiralPattern([[1,2,3], [4,5,6], [7,8,9]]) -> 1 2 3 6 9 8 7 4 5\n"
   ]
  },
  {
   "cell_type": "code",
   "execution_count": 2,
   "metadata": {},
   "outputs": [
    {
     "name": "stdout",
     "output_type": "stream",
     "text": [
      "1 2 3 4 5 6 7 8 9 \n"
     ]
    }
   ],
   "source": [
    "def spiralpattern(a):\n",
    "    if len(a)%2 == 0:\n",
    "        n = len(a)\n",
    "    else:\n",
    "        n = len(a) + 1\n",
    "    j = 0\n",
    "    k = 1\n",
    "    while n != 0:\n",
    "        for i in range(j,len(a[j])-k):\n",
    "            print(a[j][i],end = ' ')\n",
    "        for i in range(j,len(a)-k):\n",
    "            print(a[i][len(a[j])-k],end = ' ')\n",
    "        for i in range(len(a[j])-k,j,-1):\n",
    "            print(a[len(a)-k][i],end = ' ')\n",
    "        for i in range(len(a)-k,j,-1):\n",
    "            print(a[i][j],end = ' ')\n",
    "        n = n - 2\n",
    "        j = j + 1\n",
    "        k = k + 1\n",
    "    if len(a)%2 == 1:\n",
    "        print(a[len(a)//2][len(a)//2],end = ' ')\n",
    "        \n",
    "spiralpattern([[1,2,3],[8,9,4],[7,6,5]])\n",
    "print(end = '\\n')"
   ]
  },
  {
   "cell_type": "markdown",
   "metadata": {},
   "source": [
    "## PROBLEM:\n",
    "\n",
    "### PROBLEM STATEMENT\n",
    "\n",
    "You are given n words. Some words may repeat. For each word, output its number of occurrences. The output order should correspond with the input order of appearance of the word. \n",
    "First line of input contains the total number of words n. Next n lines contain words that need to processed.\n",
    "\n",
    "First line of the output should contain the total number distinct words. Second line of output must contain the frequency of words the same order of their appearance as in the input.\n",
    "\n",
    "## TESTCASES\n",
    "\n",
    "Sample Input :  6\n",
    "\n",
    "abcd\n",
    "\n",
    "ijkl\n",
    "\n",
    "abcd\n",
    "\n",
    "pqrs\n",
    "\n",
    "abcd\n",
    "\n",
    "ijkl\n",
    "\n",
    "Sample Output :   3\n",
    "\n",
    "3  2   1\n",
    "\n",
    "\n"
   ]
  },
  {
   "cell_type": "code",
   "execution_count": null,
   "metadata": {},
   "outputs": [],
   "source": [
    "def mos(a):\n",
    "    b = []\n",
    "    for x in a:\n",
    "        if x not in b:\n",
    "            b.append(x)\n",
    "    c=0\n",
    "    for i in range(0, len(b)):\n",
    "        for j in range(0, len(a)):\n",
    "            if(b[i]==a[j]):\n",
    "                c=c+1\n",
    "        print(b[i],c)\n",
    "        c=0\n",
    "a=['abcd','ijkl','abcd','pqrs','abcd','ijkl']\n",
    "mos(a)"
   ]
  },
  {
   "cell_type": "code",
   "execution_count": null,
   "metadata": {},
   "outputs": [],
   "source": []
  }
 ],
 "metadata": {
  "kernelspec": {
   "display_name": "Python 3",
   "language": "python",
   "name": "python3"
  },
  "language_info": {
   "codemirror_mode": {
    "name": "ipython",
    "version": 3
   },
   "file_extension": ".py",
   "mimetype": "text/x-python",
   "name": "python",
   "nbconvert_exporter": "python",
   "pygments_lexer": "ipython3",
   "version": "3.7.3"
  }
 },
 "nbformat": 4,
 "nbformat_minor": 2
}
