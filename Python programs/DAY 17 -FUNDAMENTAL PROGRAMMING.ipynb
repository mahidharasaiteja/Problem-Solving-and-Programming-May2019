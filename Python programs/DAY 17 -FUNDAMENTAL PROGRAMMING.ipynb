{
 "cells": [
  {
   "cell_type": "markdown",
   "metadata": {},
   "source": [
    "## Regular Expressions\n",
    "set of all possible values that satisfy a given pattern\n",
    "\n",
    "0123456789\n",
    "[0-9]\n",
    "[a-z]\n",
    "[A-Z]\n"
   ]
  },
  {
   "cell_type": "code",
   "execution_count": null,
   "metadata": {},
   "outputs": [],
   "source": [
    "for i in[0-9]:\n",
    "    print(i)"
   ]
  },
  {
   "cell_type": "code",
   "execution_count": null,
   "metadata": {},
   "outputs": [],
   "source": [
    "import re\n",
    "\n",
    "#Check if the string starts with \"The\" and ends with \"Spain\":\n",
    "\n",
    "txt = \"The rain in Spain\"\n",
    "x = re.search(\"^The.*Spain$\", txt)\n",
    "\n",
    "if (x):\n",
    "  print(\"YES! We have a match!\")\n",
    "else:\n",
    "  print(\"No match\")\n"
   ]
  },
  {
   "cell_type": "code",
   "execution_count": null,
   "metadata": {},
   "outputs": [],
   "source": [
    "import re\n",
    "\n",
    "pattern = '^g....'\n",
    "domain= 'gmail'\n",
    "if re.match(pattern,domain):\n",
    "    print ('match')\n",
    "else:\n",
    "    print('not match')"
   ]
  },
  {
   "cell_type": "code",
   "execution_count": null,
   "metadata": {},
   "outputs": [],
   "source": [
    "import re\n",
    "\n",
    "pattern = '^[a-z]{4}$'\n",
    "domain= 'aaaafhff'\n",
    "\n",
    "if re.match(pattern, domain):\n",
    "    print ('match')\n",
    "else:\n",
    "    print('not match')"
   ]
  },
  {
   "cell_type": "markdown",
   "metadata": {},
   "source": [
    "## Regex pal website for eg"
   ]
  },
  {
   "cell_type": "code",
   "execution_count": null,
   "metadata": {},
   "outputs": [],
   "source": []
  },
  {
   "cell_type": "markdown",
   "metadata": {},
   "source": [
    "## postal code"
   ]
  },
  {
   "cell_type": "code",
   "execution_count": null,
   "metadata": {},
   "outputs": [],
   "source": [
    "##phone number\n",
    "\n",
    "import re\n",
    "\n",
    "pattern = '^[6-9][0-9]{9}'\n",
    "domain=input('entr phone num')\n",
    "\n",
    "if re.match(pattern, domain):\n",
    "    print ('true')\n",
    "else:\n",
    "    print('false')"
   ]
  },
  {
   "cell_type": "code",
   "execution_count": null,
   "metadata": {},
   "outputs": [],
   "source": [
    "##postalcode\n",
    "\n",
    "import re\n",
    "\n",
    "postalcodepattern = '^[1-9][0-9]{5}$'\n",
    "code = '500001'\n",
    "\n",
    "if re.match(postalcodepattern, code):\n",
    "    print ('match')\n",
    "else:\n",
    "    print('not match')"
   ]
  },
  {
   "cell_type": "markdown",
   "metadata": {},
   "source": [
    "## Email Validation\n",
    " \n"
   ]
  },
  {
   "cell_type": "code",
   "execution_count": null,
   "metadata": {},
   "outputs": [],
   "source": [
    "import re\n",
    "\n",
    "pattern = '^[a-z][a-z0-9]{4,15}[a-z0-9][@][0-9a-z]{3,9}[.][a-z]{2,3}$'\n",
    "domain=input('entr email')\n",
    "\n",
    "if re.match(pattern, domain):\n",
    "    print ('true')\n",
    "else:\n",
    "    print('false')"
   ]
  },
  {
   "cell_type": "markdown",
   "metadata": {},
   "source": [
    "## Problem Statement\n",
    "\n",
    "pwd validation\n",
    "\n",
    "## constrains\n",
    "* should contain atleast one uppercase letter\n",
    "* length in the range(6,21)\n",
    "* should contain atleast one special character\n",
    "* should start with uppercase or lowercase\n",
    "* should contain atleast one digit\n"
   ]
  },
  {
   "cell_type": "code",
   "execution_count": null,
   "metadata": {},
   "outputs": [],
   "source": [
    "import re\n",
    "\n",
    "pattern = import re\n",
    "\n",
    "pattern = ^[a-zA-Z][a-z0-9A-Z]\n",
    "domain=input('entr password')\n",
    "\n",
    "if re.match(pattern, domain):\n",
    "    \n",
    "    print ('true')\n",
    "else:\n",
    "    print('false')"
   ]
  },
  {
   "cell_type": "markdown",
   "metadata": {},
   "source": [
    "### iterations in python\n",
    "\n",
    "lists,tuples,strings\n"
   ]
  },
  {
   "cell_type": "code",
   "execution_count": null,
   "metadata": {},
   "outputs": [],
   "source": [
    "li = [1,2,3,4,5] ##list will displayed\n",
    "\n",
    "\n",
    "for i in li:\n",
    "    print(i)\n",
    "type(li)\n",
    "it=iter(li)\n",
    "type(it)\n",
    "next(it)\n",
    "next(it)\n",
    "next(it)\n"
   ]
  },
  {
   "cell_type": "code",
   "execution_count": null,
   "metadata": {},
   "outputs": [],
   "source": [
    "li = [1,2,3,4,5] ##list will displayed\n",
    "\n",
    "\n",
    "for i in li:\n",
    "    print(i)\n",
    "type(li)\n",
    "it=iter(li)\n",
    "for i in iter(1,5):\n",
    "    print(iter)\n",
    "    "
   ]
  },
  {
   "cell_type": "code",
   "execution_count": null,
   "metadata": {},
   "outputs": [],
   "source": [
    "li =[i**3 for i in range(1,10)]\n",
    "li\n",
    "sum(li)\n",
    "gn=(i**3 for i in range(1,11))\n",
    "\n",
    "for i in gn:\n",
    "    print(i ,end =' ')"
   ]
  },
  {
   "cell_type": "markdown",
   "metadata": {},
   "source": [
    "## Functional Programming\n",
    "\n",
    "\n"
   ]
  },
  {
   "cell_type": "code",
   "execution_count": null,
   "metadata": {},
   "outputs": [],
   "source": [
    "def helloworld(h):\n",
    "    def world(w):http://localhost:8888/notebooks/FUNDAMENTAL%20PROGRAMMING.ipynb#\n",
    "        print(h,w)\n",
    "    return world\n",
    "h = helloworld\n",
    "x = h(\"hello\")\n",
    "x\n"
   ]
  },
  {
   "cell_type": "code",
   "execution_count": null,
   "metadata": {},
   "outputs": [],
   "source": [
    "def readfiledata(filename):\n",
    "    f =open(filename, 'r')\n",
    "    filedata =f.readline()\n",
    "        \n",
    "    f.close()\n",
    "    return filedata\n",
    "readfiledata('datafiles/data.txt')"
   ]
  },
  {
   "cell_type": "code",
   "execution_count": null,
   "metadata": {},
   "outputs": [],
   "source": [
    "\n",
    "\n"
   ]
  }
 ],
 "metadata": {
  "kernelspec": {
   "display_name": "Python 3",
   "language": "python",
   "name": "python3"
  },
  "language_info": {
   "codemirror_mode": {
    "name": "ipython",
    "version": 3
   },
   "file_extension": ".py",
   "mimetype": "text/x-python",
   "name": "python",
   "nbconvert_exporter": "python",
   "pygments_lexer": "ipython3",
   "version": "3.7.3"
  }
 },
 "nbformat": 4,
 "nbformat_minor": 2
}
