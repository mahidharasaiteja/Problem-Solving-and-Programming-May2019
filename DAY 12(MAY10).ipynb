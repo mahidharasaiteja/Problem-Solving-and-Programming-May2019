{
 "cells": [
  {
   "cell_type": "markdown",
   "metadata": {},
   "source": [
    "###  PROBLEM 1:\n",
    "#### PROBLEM STATEMENT:- Design a procedure calculate the maximum, minimum and average of N number."
   ]
  },
  {
   "cell_type": "code",
   "execution_count": 9,
   "metadata": {},
   "outputs": [
    {
     "name": "stdout",
     "output_type": "stream",
     "text": [
      "5\n",
      "1\n",
      "3\n"
     ]
    }
   ],
   "source": [
    "def maxminavg(a):\n",
    "    print(max(a))\n",
    "    print(min(a))\n",
    "    avg=int((min(a)+max(a))/2)\n",
    "    print(avg)\n",
    "maxminavg([1,2,3,4,5])    "
   ]
  },
  {
   "cell_type": "markdown",
   "metadata": {},
   "source": [
    "## problem 2:\n",
    "\n",
    " first N prime number \n",
    "    "
   ]
  },
  {
   "cell_type": "code",
   "execution_count": 3,
   "metadata": {},
   "outputs": [],
   "source": [
    "def Isprime(n):\n",
    "    count=0\n",
    "    for i in range(2,n):\n",
    "        if(n% i== 0):\n",
    "            count=count+1\n",
    "    if count==0:\n",
    "            return True\n",
    "    else:\n",
    "            return False\n",
    "        "
   ]
  },
  {
   "cell_type": "code",
   "execution_count": 4,
   "metadata": {},
   "outputs": [
    {
     "name": "stdout",
     "output_type": "stream",
     "text": [
      "2 3 5 7 11 13 17 19 23 29 "
     ]
    }
   ],
   "source": [
    "def nprime(n):\n",
    "    count =0\n",
    "    i=2\n",
    "    while(count !=n):\n",
    "        if(Isprime(i)== True):\n",
    "            print(i,end=\" \")\n",
    "            count = count + 1\n",
    "        i = i+1\n",
    "nprime(10)\n",
    "         "
   ]
  },
  {
   "cell_type": "markdown",
   "metadata": {},
   "source": [
    "# PROBLEMS \n",
    "\n",
    "#### PROBLEM STATEMENT\n",
    "### DATE -10MAY 2019\n",
    "### DAY 12\n"
   ]
  },
  {
   "cell_type": "code",
   "execution_count": null,
   "metadata": {},
   "outputs": [],
   "source": [
    "## recursion\n",
    "\n",
    "\n",
    "Function calling itself\n"
   ]
  },
  {
   "cell_type": "code",
   "execution_count": 10,
   "metadata": {},
   "outputs": [
    {
     "data": {
      "text/plain": [
       "8"
      ]
     },
     "execution_count": 10,
     "metadata": {},
     "output_type": "execute_result"
    }
   ],
   "source": [
    "def recursivepower(n, r):\n",
    "    if r == 1:\n",
    "        return n\n",
    "    else:\n",
    "        return recursivepower(n, r-1) * n\n",
    "    \n",
    "recursivepower(2,3)"
   ]
  },
  {
   "cell_type": "code",
   "execution_count": null,
   "metadata": {},
   "outputs": [],
   "source": [
    "def power(n,r):\n",
    "    prod=1\n",
    "    for i in range(1,r+1):\n",
    "        prod=prod *n\n",
    "    return prod\n",
    "power(2,10)"
   ]
  },
  {
   "cell_type": "code",
   "execution_count": null,
   "metadata": {},
   "outputs": [],
   "source": [
    "def gcdrecursive(a, b):\n",
    "    if b % a == 0:\n",
    "        return a\n",
    "    else:\n",
    "        return gcdrecursive(b % a, a)\n",
    "gcdrecursive(12,39)"
   ]
  },
  {
   "cell_type": "code",
   "execution_count": 8,
   "metadata": {},
   "outputs": [
    {
     "data": {
      "text/plain": [
       "12"
      ]
     },
     "execution_count": 8,
     "metadata": {},
     "output_type": "execute_result"
    }
   ],
   "source": [
    "#Iterative GCD\n",
    "def gcditerative(a, b):\n",
    "    \n",
    "    r = b % a\n",
    "    if(r == 0):\n",
    "         return a\n",
    "    while r !=0:\n",
    "        r=b%a\n",
    "        b = a\n",
    "        a = r\n",
    "    \n",
    "        return b\n",
    "\n",
    "gcditerative(12, 39)"
   ]
  },
  {
   "cell_type": "code",
   "execution_count": null,
   "metadata": {},
   "outputs": [],
   "source": [
    "###Towers of hanoi\n",
    "###Explanation\n",
    "n disks -> move n-1 from ource to temperory\n",
    "           move nth disk from source t0 destination\n",
    "           move n-1 disks from source temp to destination\n",
    "3 disks -> move 2 disks from source to teo\n",
    "           move 3rd disk from source to dest\n",
    "           move 2 disks from temp to dest"
   ]
  },
  {
   "cell_type": "code",
   "execution_count": 5,
   "metadata": {},
   "outputs": [
    {
     "name": "stdout",
     "output_type": "stream",
     "text": [
      "move  1 disk from 1 to 3\n",
      "move  2 disk from 1 to 2\n",
      "move  1 disk from 3 to 2\n",
      "move  3 disk from 1 to 3\n",
      "move  1 disk from 2 to 1\n",
      "move  2 disk from 2 to 3\n",
      "move  1 disk from 1 to 3\n"
     ]
    }
   ],
   "source": [
    "def towersofhanoi(n, source, temp, dest):\n",
    "    if n == 1:\n",
    "        print('move ', n, 'disk from', source, 'to', dest)\n",
    "            \n",
    "    else:\n",
    "            towersofhanoi(n-1, source, dest, temp)\n",
    "            print('move ', n, 'disk from', source, 'to', dest)\n",
    "            towersofhanoi(n-1 , temp, source, dest)\n",
    "            \n",
    "towersofhanoi(3, 1, 2, 3)"
   ]
  },
  {
   "cell_type": "code",
   "execution_count": 6,
   "metadata": {},
   "outputs": [
    {
     "name": "stdout",
     "output_type": "stream",
     "text": [
      "0\n",
      "1\n",
      "1\n",
      "2\n",
      "3\n",
      "5\n",
      "8\n",
      "13\n",
      "21\n"
     ]
    }
   ],
   "source": [
    "##fibonacci using recursion\n",
    "def fibonacci(n1,n2,count):\n",
    "    print(n1)\n",
    "    if(count-1>0):\n",
    "        return fibonacci(n2,n1+n2,count-1)\n",
    "    \n",
    "    \n",
    "fibonacci(0,1,9)\n",
    "    "
   ]
  },
  {
   "cell_type": "code",
   "execution_count": null,
   "metadata": {},
   "outputs": [],
   "source": []
  }
 ],
 "metadata": {
  "kernelspec": {
   "display_name": "Python 3",
   "language": "python",
   "name": "python3"
  },
  "language_info": {
   "codemirror_mode": {
    "name": "ipython",
    "version": 3
   },
   "file_extension": ".py",
   "mimetype": "text/x-python",
   "name": "python",
   "nbconvert_exporter": "python",
   "pygments_lexer": "ipython3",
   "version": "3.7.3"
  }
 },
 "nbformat": 4,
 "nbformat_minor": 2
}
