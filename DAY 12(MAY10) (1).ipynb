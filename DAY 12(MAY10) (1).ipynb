{
 "cells": [
  {
   "cell_type": "markdown",
   "metadata": {},
   "source": [
    "###  PROBLEM 1:\n",
    "#### PROBLEM STATEMENT:- Design a procedure calculate the maximum, minimum and average of N number."
   ]
  },
  {
   "cell_type": "code",
   "execution_count": 9,
   "metadata": {},
   "outputs": [
    {
     "name": "stdout",
     "output_type": "stream",
     "text": [
      "5\n",
      "1\n",
      "3\n"
     ]
    }
   ],
   "source": [
    "def maxminavg(a):\n",
    "    print(max(a))\n",
    "    print(min(a))\n",
    "    avg=int((min(a)+max(a))/2)\n",
    "    print(avg)\n",
    "maxminavg([1,2,3,4,5])    "
   ]
  },
  {
   "cell_type": "markdown",
   "metadata": {},
   "source": [
    "## problem 2:\n",
    "\n",
    " first N prime number \n",
    "    "
   ]
  },
  {
   "cell_type": "code",
   "execution_count": 6,
   "metadata": {},
   "outputs": [],
   "source": [
    "def Isprime(n):\n",
    "    count=0\n",
    "    for i in range(2,n):\n",
    "        if(n% i== 0):\n",
    "            count=count+1\n",
    "    if count==0:\n",
    "            return True\n",
    "    else:\n",
    "            return False\n",
    "        "
   ]
  },
  {
   "cell_type": "code",
   "execution_count": 10,
   "metadata": {},
   "outputs": [
    {
     "name": "stdout",
     "output_type": "stream",
     "text": [
      "2 3 5 7 11 "
     ]
    }
   ],
   "source": [
    "def nprime(n):\n",
    "    count =0\n",
    "    i=2\n",
    "    while(count !=n):\n",
    "        if(Isprime(i)== True):\n",
    "            print(i,end=\" \")\n",
    "        count = count + 1\n",
    "        i = i+1\n",
    "nprime(10)\n",
    "         "
   ]
  },
  {
   "cell_type": "markdown",
   "metadata": {},
   "source": []
  },
  {
   "cell_type": "markdown",
   "metadata": {},
   "source": [
    "# PROBLEMS \n",
    "\n",
    "#### PROBLEM STATEMENT\n",
    "### DATE -10MAY 2019\n",
    "### DAY 12\n"
   ]
  },
  {
   "cell_type": "markdown",
   "metadata": {},
   "source": [
    "### PROBLEM 1\n",
    "\n",
    "##  Solve the following problems using Recursion and Iteration\n"
   ]
  },
  {
   "cell_type": "markdown",
   "metadata": {},
   "source": [
    "## POWER"
   ]
  },
  {
   "cell_type": "code",
   "execution_count": 10,
   "metadata": {},
   "outputs": [
    {
     "data": {
      "text/plain": [
       "8"
      ]
     },
     "execution_count": 10,
     "metadata": {},
     "output_type": "execute_result"
    }
   ],
   "source": [
    "def recursivepower(n, r):\n",
    "    if r == 1:\n",
    "        return n\n",
    "    else:\n",
    "        return recursivepower(n, r-1) * n\n",
    "    \n",
    "recursivepower(2,3)"
   ]
  },
  {
   "cell_type": "code",
   "execution_count": null,
   "metadata": {},
   "outputs": [],
   "source": [
    "def power(n,r):\n",
    "    prod=1\n",
    "    for i in range(1,r+1):\n",
    "        prod=prod *n\n",
    "    return prod\n",
    "power(2,10)"
   ]
  },
  {
   "cell_type": "markdown",
   "metadata": {},
   "source": [
    "## GCD"
   ]
  },
  {
   "cell_type": "code",
   "execution_count": null,
   "metadata": {},
   "outputs": [],
   "source": [
    "def gcdrecursive(a, b):\n",
    "    if b % a == 0:\n",
    "        return a\n",
    "    else:\n",
    "        return gcdrecursive(b % a, a)\n",
    "gcdrecursive(12,39)"
   ]
  },
  {
   "cell_type": "code",
   "execution_count": 8,
   "metadata": {},
   "outputs": [
    {
     "data": {
      "text/plain": [
       "12"
      ]
     },
     "execution_count": 8,
     "metadata": {},
     "output_type": "execute_result"
    }
   ],
   "source": [
    "#Iterative GCD\n",
    "def gcditerative(a, b):\n",
    "    \n",
    "    r = b % a\n",
    "    if(r == 0):\n",
    "         return a\n",
    "    while r !=0:\n",
    "        r=b%a\n",
    "        b = a\n",
    "        a = r\n",
    "    \n",
    "        return b\n",
    "\n",
    "gcditerative(12, 39)"
   ]
  },
  {
   "cell_type": "markdown",
   "metadata": {},
   "source": [
    "### Towers of hanoi\n",
    "\n",
    "### Explanation\n",
    "n disks -> move n-1 from ource to temperory\n",
    "           move nth disk from source t0 destination\n",
    "           move n-1 disks from source temp to destination\n",
    "3 disks -> move 2 disks from source to teo\n",
    "           move 3rd disk from source to dest\n",
    "           move 2 disks from temp to dest"
   ]
  },
  {
   "cell_type": "code",
   "execution_count": 5,
   "metadata": {},
   "outputs": [
    {
     "name": "stdout",
     "output_type": "stream",
     "text": [
      "move  1 disk from 1 to 3\n",
      "move  2 disk from 1 to 2\n",
      "move  1 disk from 3 to 2\n",
      "move  3 disk from 1 to 3\n",
      "move  1 disk from 2 to 1\n",
      "move  2 disk from 2 to 3\n",
      "move  1 disk from 1 to 3\n"
     ]
    }
   ],
   "source": [
    "def towersofhanoi(n, source, temp, dest):\n",
    "    if n == 1:\n",
    "        print('move ', n, 'disk from', source, 'to', dest)\n",
    "            \n",
    "    else:\n",
    "            towersofhanoi(n-1, source, dest, temp)\n",
    "            print('move ', n, 'disk from', source, 'to', dest)\n",
    "            towersofhanoi(n-1 , temp, source, dest)\n",
    "            \n",
    "towersofhanoi(3, 1, 2, 3)"
   ]
  },
  {
   "cell_type": "markdown",
   "metadata": {},
   "source": [
    "## FIBONACCI"
   ]
  },
  {
   "cell_type": "code",
   "execution_count": 6,
   "metadata": {},
   "outputs": [
    {
     "name": "stdout",
     "output_type": "stream",
     "text": [
      "0\n",
      "1\n",
      "1\n",
      "2\n",
      "3\n",
      "5\n",
      "8\n",
      "13\n",
      "21\n"
     ]
    }
   ],
   "source": [
    "\n",
    "def fibonacci(n1,n2,count):\n",
    "    print(n1)\n",
    "    if(count-1>0):\n",
    "        return fibonacci(n2,n1+n2,count-1)\n",
    "    \n",
    "    \n",
    "fibonacci(0,1,9)\n",
    "    "
   ]
  },
  {
   "cell_type": "markdown",
   "metadata": {},
   "source": [
    "## FACTORIAL"
   ]
  },
  {
   "cell_type": "code",
   "execution_count": 9,
   "metadata": {},
   "outputs": [
    {
     "name": "stdout",
     "output_type": "stream",
     "text": [
      "720\n",
      "5040\n"
     ]
    }
   ],
   "source": [
    "##factorial\n",
    "def factorial_(r):\n",
    "    if r == 1:\n",
    "        return r\n",
    "    else:\n",
    "        return factorial_(r-1) * r\n",
    "\n",
    "print(factorial_(6))\n",
    "print(factorial_(7))"
   ]
  },
  {
   "cell_type": "markdown",
   "metadata": {},
   "source": [
    "## PROBLEM:4\n",
    "## problem statement\n",
    " Define a function to convert a binary number to the corresponding decimal number\n",
    "## TESTCASE\n",
    "\n",
    "binaryToDecimal(1100) -> 12\n",
    "binaryToDecimal(1010) -> 10\n",
    "binaryToDecimal(111000) -> 56"
   ]
  },
  {
   "cell_type": "code",
   "execution_count": 45,
   "metadata": {},
   "outputs": [
    {
     "name": "stdout",
     "output_type": "stream",
     "text": [
      "15\n",
      "27178\n"
     ]
    }
   ],
   "source": [
    "def bod(n):\n",
    "    sum = 0\n",
    "    for i in range(0,len(str(n))):\n",
    "        r = n%10\n",
    "        \n",
    "        sum = sum + (r*(2**i))\n",
    "        n = n//10       \n",
    "                   \n",
    "    return sum\n",
    "print(bod(1111))\n",
    "print(bod(110101000101010))\n"
   ]
  },
  {
   "cell_type": "markdown",
   "metadata": {},
   "source": [
    "## PROBLEM 5:\n",
    " Define a function to convert a decimal number to the corresponding binary number\n",
    "## TETSCASES\n",
    "\n",
    "\n",
    "decimalToBinary(15) -> 1111\n",
    "decimalToBinary(1) -> 1"
   ]
  },
  {
   "cell_type": "code",
   "execution_count": 58,
   "metadata": {},
   "outputs": [
    {
     "name": "stdout",
     "output_type": "stream",
     "text": [
      "1111 \n",
      "1 \n"
     ]
    }
   ],
   "source": [
    "def dob(n):\n",
    "    sum = 0\n",
    "    a = ' '\n",
    "    while((n) > 0):\n",
    "        r=n%2\n",
    "        n=n//2\n",
    "        a=str(r)+a\n",
    "    return a\n",
    "\n",
    "print(dob(15))\n",
    "print(dob(1))\n",
    "    "
   ]
  },
  {
   "cell_type": "markdown",
   "metadata": {},
   "source": [
    "## PROBLEM 3:\n",
    "\n",
    " Define a function to merge the characters of two strings alternatively. The remaining characters\n",
    "\n",
    "  of the longer string are printed in the same order at the end.\n",
    "     \n",
    "## TESTCASES\n",
    "mergeString('abcd', 'abcd') -> 'aabbccdd'\n",
    "mergeString('abc', '123456') -> 'a1b2c3456'\n",
    "mergeString('0', '123456') -> '0123456'"
   ]
  },
  {
   "cell_type": "code",
   "execution_count": 49,
   "metadata": {},
   "outputs": [
    {
     "name": "stdout",
     "output_type": "stream",
     "text": [
      " tseajia\n"
     ]
    }
   ],
   "source": [
    "def mergestring(str1,str2):\n",
    "    c =' '\n",
    "    if(str1>str2):\n",
    "        \n",
    "        a=str1\n",
    "        b=str2\n",
    "    else:\n",
    "        a=str2\n",
    "        b=str1\n",
    "    x=len(a)\n",
    "    y=len(b)\n",
    "    for i in range(0,y):\n",
    "        c=c+a[i]+b[i]\n",
    "    for i in range(y,x):\n",
    "        c=c+a[i]\n",
    "    return c\n",
    "\n",
    "print(mergestring('sai','teja'))\n",
    "        \n",
    "     "
   ]
  },
  {
   "cell_type": "markdown",
   "metadata": {},
   "source": [
    "## PROBLEM 5:\n",
    "Define a function to convert a decimal number to the corresponding binary number\n",
    "\n",
    "## TESTCASES\n",
    "decimalToBinary(15) -> 1111\n",
    "decimalToBinary(1) -> 1"
   ]
  },
  {
   "cell_type": "code",
   "execution_count": 67,
   "metadata": {},
   "outputs": [
    {
     "name": "stdout",
     "output_type": "stream",
     "text": [
      "1\n",
      "3\n",
      "3\n"
     ]
    }
   ],
   "source": [
    "def sub(str1,str2):\n",
    "    count = 0\n",
    "    if(len(str1)>len(str2)):\n",
    "        sub = str2\n",
    "        stri = str1\n",
    "        \n",
    "    else:\n",
    "        sub = str1\n",
    "        stri = str2\n",
    "        for i in range(len(stri)):\n",
    "            if(sub in stri[i: i + len(sub)]):\n",
    "                count = count+1\n",
    "        return count\n",
    "    \n",
    "print(sub('str', 'substr'))\n",
    "print(sub('3', '1234567891122334455'))\n",
    "print(sub('cc', 'abccddccc'))"
   ]
  },
  {
   "cell_type": "markdown",
   "metadata": {},
   "source": [
    "## PROBLEM 6:\n",
    "    Define a function to check if a given year is a leap year. Returns a boolean value\n",
    "## TESTCASES\n",
    "\n",
    "2000 -> True\n",
    "1900 -> False\n",
    "2012 -> True\n",
    "2020 -> True\n",
    "200 -> False  \n",
    "    "
   ]
  },
  {
   "cell_type": "code",
   "execution_count": 69,
   "metadata": {},
   "outputs": [
    {
     "name": "stdout",
     "output_type": "stream",
     "text": [
      "True\n",
      "False\n",
      "True\n",
      "True\n",
      "False\n"
     ]
    }
   ],
   "source": [
    "def leapyear(n):\n",
    "    if(n%4 == 0 and n%100 !=0 or n%400 == 0):\n",
    "        return True\n",
    "    else:\n",
    "        return False\n",
    "print(leapyear(2000))\n",
    "print(leapyear(1900))\n",
    "print(leapyear(2012))\n",
    "print(leapyear(2020))\n",
    "print(leapyear(200))\n",
    "    "
   ]
  },
  {
   "cell_type": "markdown",
   "metadata": {},
   "source": [
    "## PROBLEM 8:\n",
    "\n",
    " Define a function to find the average of all the outer elements of an N x M matrix.\n",
    "\n",
    "averageOuterMatrix([[1, 2, 3], [4, 5, 6], [7, 8, 9], [10, 11, 12]] -> 4.5"
   ]
  },
  {
   "cell_type": "code",
   "execution_count": 74,
   "metadata": {},
   "outputs": [
    {
     "data": {
      "text/plain": [
       "91"
      ]
     },
     "execution_count": 74,
     "metadata": {},
     "output_type": "execute_result"
    }
   ],
   "source": [
    "def avg(n):\n",
    "    x = len(n)\n",
    "    y = len(n[1])\n",
    "    sum = 0\n",
    "    for i in range(y):\n",
    "        sum = sum + n[0][i] + n[x-1][i]\n",
    "    for j in range (x):\n",
    "            sum = sum + n[j][0] + n[j][y-1]\n",
    "    return sum\n",
    "n=[1,2,3],[4,5,6],[7,8,9],[10,11,12]  \n",
    "avg(n)"
   ]
  },
  {
   "cell_type": "markdown",
   "metadata": {},
   "source": [
    "## PROBLEM 7\n",
    "Design a Python script to determine the difference in date for given two dates in YYYY:MM:DD format(0 <= YYYY <= 9999, 1 <= MM <= 12, 1 <= DD <= 31) following the leap year rules. Return the total number of days existing between the two dates.\n",
    "\n",
    "## TEST CASES\n",
    "dateDifference('2019:05:10', '2019:05:01') -> 9\n",
    "dateDifference('0003:03:03', '0003:06:06') -> 95"
   ]
  },
  {
   "cell_type": "code",
   "execution_count": null,
   "metadata": {},
   "outputs": [],
   "source": [
    " def date_diff(a,b):\n",
    "    y1=a[0:4]\n",
    "    y2=b[0:4]\n",
    "    m1=a[5:7]\n",
    "    m2=b[5:7]\n",
    "    d1=a[8:10]\n",
    "    d2=b[8:10]\n",
    "    day=0\n",
    "    day=0\n",
    "    day+=(int(y2) -(int(y1)))*360\n",
    "    day+=(abs(int(n2) - int(m1)))*30\n",
    "    day+=(abs(int(d1) - int(d2)))\n",
    "    if(m2!=m1):\n",
    "        for i in range(int(m1), int(m2)+1):\n",
    "            if (int(i) in [1,3,5,7,8,10,12]):\n",
    "                day+=1\n",
    "                for n in range "
   ]
  }
 ],
 "metadata": {
  "kernelspec": {
   "display_name": "Python 3",
   "language": "python",
   "name": "python3"
  },
  "language_info": {
   "codemirror_mode": {
    "name": "ipython",
    "version": 3
   },
   "file_extension": ".py",
   "mimetype": "text/x-python",
   "name": "python",
   "nbconvert_exporter": "python",
   "pygments_lexer": "ipython3",
   "version": "3.7.3"
  }
 },
 "nbformat": 4,
 "nbformat_minor": 2
}
